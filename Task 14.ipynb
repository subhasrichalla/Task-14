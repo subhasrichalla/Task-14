{
 "cells": [
  {
   "cell_type": "markdown",
   "id": "bd65bcea",
   "metadata": {},
   "source": [
    "## Create a lambda function that takes two arguments and returns their sum."
   ]
  },
  {
   "cell_type": "code",
   "execution_count": 1,
   "id": "03d27aea",
   "metadata": {},
   "outputs": [
    {
     "data": {
      "text/plain": [
       "30"
      ]
     },
     "execution_count": 1,
     "metadata": {},
     "output_type": "execute_result"
    }
   ],
   "source": [
    "sum= lambda x,y: x+y\n",
    "sum(10,20)"
   ]
  },
  {
   "cell_type": "markdown",
   "id": "9c813d73",
   "metadata": {},
   "source": [
    "## Create another lambda function that takes a single argument and returns its square.\n"
   ]
  },
  {
   "cell_type": "code",
   "execution_count": 2,
   "id": "6b92977d",
   "metadata": {},
   "outputs": [
    {
     "data": {
      "text/plain": [
       "100"
      ]
     },
     "execution_count": 2,
     "metadata": {},
     "output_type": "execute_result"
    }
   ],
   "source": [
    "square = lambda x: x**2\n",
    "square(10)"
   ]
  },
  {
   "cell_type": "markdown",
   "id": "80df7ddf",
   "metadata": {},
   "source": [
    "## Use the lambda functions to calculate the sum and square of various numbers and print the results.\n"
   ]
  },
  {
   "cell_type": "code",
   "execution_count": 1,
   "id": "cb55a099",
   "metadata": {},
   "outputs": [],
   "source": [
    "c= lambda *n : sum(n)"
   ]
  },
  {
   "cell_type": "code",
   "execution_count": 2,
   "id": "201ea870",
   "metadata": {},
   "outputs": [
    {
     "data": {
      "text/plain": [
       "10"
      ]
     },
     "execution_count": 2,
     "metadata": {},
     "output_type": "execute_result"
    }
   ],
   "source": [
    "c(1,2,3,4)"
   ]
  },
  {
   "cell_type": "code",
   "execution_count": 3,
   "id": "6cb5a28e",
   "metadata": {},
   "outputs": [
    {
     "data": {
      "text/plain": [
       "[1, 4, 9, 16, 25, 36, 49, 64, 81]"
      ]
     },
     "execution_count": 3,
     "metadata": {},
     "output_type": "execute_result"
    }
   ],
   "source": [
    "list(map(lambda n:n**2 , list(range(1,10))))  ## using range method"
   ]
  },
  {
   "cell_type": "code",
   "execution_count": 4,
   "id": "4e4ea96b",
   "metadata": {},
   "outputs": [
    {
     "data": {
      "text/plain": [
       "[1, 4, 9, 16, 25, 36, 49]"
      ]
     },
     "execution_count": 4,
     "metadata": {},
     "output_type": "execute_result"
    }
   ],
   "source": [
    "list1 = [1,2,3,4,5,6,7]                     #using list of various numbers\n",
    "list(map(lambda n : n**2  , list1))"
   ]
  },
  {
   "cell_type": "markdown",
   "id": "a0dd2b21",
   "metadata": {},
   "source": [
    "## 2)Define a list of integers.\n",
    "\n",
    "## a) Use the filter function to create a new list that contains only the even numbers from the original list."
   ]
  },
  {
   "cell_type": "code",
   "execution_count": 13,
   "id": "31685a16",
   "metadata": {},
   "outputs": [],
   "source": [
    "list1 = [1,2,3,4,5,6,7,8,9,10,11,12,13,14]"
   ]
  },
  {
   "cell_type": "code",
   "execution_count": 14,
   "id": "5612c26c",
   "metadata": {},
   "outputs": [],
   "source": [
    "def even(n):\n",
    "    if n % 2 == 0:\n",
    "        return n"
   ]
  },
  {
   "cell_type": "code",
   "execution_count": 15,
   "id": "0cbaa63c",
   "metadata": {},
   "outputs": [
    {
     "data": {
      "text/plain": [
       "[2, 4, 6, 8, 10, 12, 14]"
      ]
     },
     "execution_count": 15,
     "metadata": {},
     "output_type": "execute_result"
    }
   ],
   "source": [
    "list(filter(even,list1))"
   ]
  },
  {
   "cell_type": "markdown",
   "id": "2d184653",
   "metadata": {},
   "source": [
    "## b) Use the filter function again to create a new list that contains only numbers greater than 10 from the original list."
   ]
  },
  {
   "cell_type": "code",
   "execution_count": 16,
   "id": "54e28c34",
   "metadata": {},
   "outputs": [],
   "source": [
    "def num(n):\n",
    "    if n>10:\n",
    "        return n"
   ]
  },
  {
   "cell_type": "code",
   "execution_count": 17,
   "id": "fe0222b0",
   "metadata": {},
   "outputs": [
    {
     "data": {
      "text/plain": [
       "[11, 12, 13, 14]"
      ]
     },
     "execution_count": 17,
     "metadata": {},
     "output_type": "execute_result"
    }
   ],
   "source": [
    "list(filter(num,list1))"
   ]
  },
  {
   "cell_type": "markdown",
   "id": "b226d353",
   "metadata": {},
   "source": [
    "## c) Print both filtered lists."
   ]
  },
  {
   "cell_type": "code",
   "execution_count": 18,
   "id": "695ff404",
   "metadata": {},
   "outputs": [
    {
     "data": {
      "text/plain": [
       "[2, 4, 6, 8, 10, 12, 14, 11, 12, 13, 14]"
      ]
     },
     "execution_count": 18,
     "metadata": {},
     "output_type": "execute_result"
    }
   ],
   "source": [
    "list(filter(even,list1)) + list(filter(num,list1))"
   ]
  },
  {
   "cell_type": "markdown",
   "id": "15479593",
   "metadata": {},
   "source": [
    "## Define a list of strings where each string represents a number (e.g., [\"1\", \"2\", \"3\"]).\n",
    "a) Use the map function to convert each string to an integer and store the result in a new list."
   ]
  },
  {
   "cell_type": "code",
   "execution_count": 22,
   "id": "ad2b18ec",
   "metadata": {},
   "outputs": [],
   "source": [
    "n = [\"1\",\"2\",\"3\",\"4\",\"5\",\"6\"]"
   ]
  },
  {
   "cell_type": "code",
   "execution_count": 23,
   "id": "1c2fc25f",
   "metadata": {},
   "outputs": [],
   "source": [
    "def st(n):\n",
    "    if type(n)== str:\n",
    "        return int(n)"
   ]
  },
  {
   "cell_type": "code",
   "execution_count": 24,
   "id": "d49cafcb",
   "metadata": {},
   "outputs": [],
   "source": [
    "newlist = list(map(st,n))"
   ]
  },
  {
   "cell_type": "code",
   "execution_count": 25,
   "id": "a349b4c2",
   "metadata": {},
   "outputs": [
    {
     "data": {
      "text/plain": [
       "[1, 2, 3, 4, 5, 6]"
      ]
     },
     "execution_count": 25,
     "metadata": {},
     "output_type": "execute_result"
    }
   ],
   "source": [
    "newlist"
   ]
  },
  {
   "cell_type": "markdown",
   "id": "9d2c2e5f",
   "metadata": {},
   "source": [
    "## b) Use the map function again to square each integer in the new list and store the result in another new list."
   ]
  },
  {
   "cell_type": "code",
   "execution_count": 26,
   "id": "571e5431",
   "metadata": {},
   "outputs": [],
   "source": [
    "def square(n):\n",
    "    return n**n"
   ]
  },
  {
   "cell_type": "code",
   "execution_count": 27,
   "id": "fcd84a73",
   "metadata": {},
   "outputs": [],
   "source": [
    "newlist1 = list(map(square,newlist))"
   ]
  },
  {
   "cell_type": "code",
   "execution_count": 28,
   "id": "9ac36819",
   "metadata": {},
   "outputs": [
    {
     "data": {
      "text/plain": [
       "[1, 4, 27, 256, 3125, 46656]"
      ]
     },
     "execution_count": 28,
     "metadata": {},
     "output_type": "execute_result"
    }
   ],
   "source": [
    "newlist1"
   ]
  },
  {
   "cell_type": "markdown",
   "id": "ecf8187f",
   "metadata": {},
   "source": [
    "## c) Print both new lists."
   ]
  },
  {
   "cell_type": "code",
   "execution_count": 29,
   "id": "246f079a",
   "metadata": {},
   "outputs": [
    {
     "data": {
      "text/plain": [
       "[1, 2, 3, 4, 5, 6, 1, 4, 27, 256, 3125, 46656]"
      ]
     },
     "execution_count": 29,
     "metadata": {},
     "output_type": "execute_result"
    }
   ],
   "source": [
    "newlist + newlist1"
   ]
  },
  {
   "cell_type": "markdown",
   "id": "1c751436",
   "metadata": {},
   "source": [
    "### 4)Create a list of dictionaries, where each dictionary represents a person with keys \"name\" and \"age\".\n",
    "\n",
    "### Example: [{\"name\": \"Alice\", \"age\": 30}, {\"name\": \"Bob\", \"age\": 25}, ...]\n",
    "\n",
    "### a) Use the filter function to create a new list that contains only the people who are older than 25."
   ]
  },
  {
   "cell_type": "code",
   "execution_count": 3,
   "id": "8fc676ce",
   "metadata": {},
   "outputs": [],
   "source": [
    "dict1 = [{\"name\": \"Alice\", \"age\": 30}, {\"name\": \"Bob\", \"age\": 25},{\"name\": \"Aishu\", \"age\": 26}, {\"name\": \"Barbie\", \"age\": 28}]"
   ]
  },
  {
   "cell_type": "code",
   "execution_count": 10,
   "id": "f6f45cc0",
   "metadata": {},
   "outputs": [],
   "source": [
    "def people(dict1):\n",
    "    if dict1[\"age\"] > 25:\n",
    "        return(dict1)"
   ]
  },
  {
   "cell_type": "code",
   "execution_count": 11,
   "id": "701350da",
   "metadata": {},
   "outputs": [],
   "source": [
    "a_25 = list(filter(people,dict1))"
   ]
  },
  {
   "cell_type": "code",
   "execution_count": 12,
   "id": "e6a927e1",
   "metadata": {},
   "outputs": [
    {
     "data": {
      "text/plain": [
       "[{'name': 'Alice', 'age': 30},\n",
       " {'name': 'Aishu', 'age': 26},\n",
       " {'name': 'Barbie', 'age': 28}]"
      ]
     },
     "execution_count": 12,
     "metadata": {},
     "output_type": "execute_result"
    }
   ],
   "source": [
    "a_25"
   ]
  },
  {
   "cell_type": "markdown",
   "id": "eac52d9b",
   "metadata": {},
   "source": [
    "## b) Use the map function to create a new list that contains the names of the filtered people."
   ]
  },
  {
   "cell_type": "code",
   "execution_count": 13,
   "id": "47cc9b75",
   "metadata": {},
   "outputs": [],
   "source": [
    "def names_fp(dict1):\n",
    "    return {\"name\":dict1[\"name\"]}"
   ]
  },
  {
   "cell_type": "code",
   "execution_count": 14,
   "id": "eb9a7ed1",
   "metadata": {},
   "outputs": [],
   "source": [
    "selectednames = list(map(names_fp,a_25))"
   ]
  },
  {
   "cell_type": "code",
   "execution_count": 15,
   "id": "1ccca563",
   "metadata": {},
   "outputs": [
    {
     "data": {
      "text/plain": [
       "[{'name': 'Alice'}, {'name': 'Aishu'}, {'name': 'Barbie'}]"
      ]
     },
     "execution_count": 15,
     "metadata": {},
     "output_type": "execute_result"
    }
   ],
   "source": [
    "selectednames"
   ]
  },
  {
   "cell_type": "markdown",
   "id": "254a40d8",
   "metadata": {},
   "source": [
    "### 5)Create a program that reads a list of numbers from the user (you can use the input function for this).\n",
    "\n",
    "### Use map and filter functions to perform the following operations:\n",
    "\n",
    "### a) Square each number.\n",
    "\n",
    "### b) Filter out numbers that are not divisible by 3."
   ]
  },
  {
   "cell_type": "code",
   "execution_count": 1,
   "id": "cd5db4ac",
   "metadata": {},
   "outputs": [],
   "source": [
    "def sq(n):\n",
    "    return n**2"
   ]
  },
  {
   "cell_type": "code",
   "execution_count": 2,
   "id": "9bb50649",
   "metadata": {},
   "outputs": [
    {
     "name": "stdout",
     "output_type": "stream",
     "text": [
      "how many integers do you want to enter:: 4\n",
      "enter a number: 1\n",
      "enter a number: 2\n",
      "enter a number: 3\n",
      "enter a number: 4\n",
      "[1, 2, 3, 4]\n"
     ]
    }
   ],
   "source": [
    "list1 = []\n",
    "n= int(input(\"how many integers do you want to enter:: \"))\n",
    "for i in range(1,n+1):\n",
    "    a= int(input(\"enter a number: \"))\n",
    "    list1.append(a)\n",
    "    \n",
    "print(list1)"
   ]
  },
  {
   "cell_type": "code",
   "execution_count": 5,
   "id": "4ddc2bf8",
   "metadata": {},
   "outputs": [
    {
     "data": {
      "text/plain": [
       "[1, 4, 9, 16]"
      ]
     },
     "execution_count": 5,
     "metadata": {},
     "output_type": "execute_result"
    }
   ],
   "source": [
    "list(map(sq,list1))"
   ]
  },
  {
   "cell_type": "code",
   "execution_count": 6,
   "id": "05ec56fa",
   "metadata": {},
   "outputs": [],
   "source": [
    "def n3(n):\n",
    "    if n%3 != 0:\n",
    "        print(n)"
   ]
  },
  {
   "cell_type": "code",
   "execution_count": 7,
   "id": "b8216abd",
   "metadata": {},
   "outputs": [
    {
     "name": "stdout",
     "output_type": "stream",
     "text": [
      "1\n",
      "2\n",
      "4\n"
     ]
    },
    {
     "data": {
      "text/plain": [
       "[]"
      ]
     },
     "execution_count": 7,
     "metadata": {},
     "output_type": "execute_result"
    }
   ],
   "source": [
    "list(filter(n3,list1))"
   ]
  },
  {
   "cell_type": "code",
   "execution_count": null,
   "id": "b5d9711a",
   "metadata": {},
   "outputs": [],
   "source": []
  }
 ],
 "metadata": {
  "kernelspec": {
   "display_name": "Python 3 (ipykernel)",
   "language": "python",
   "name": "python3"
  },
  "language_info": {
   "codemirror_mode": {
    "name": "ipython",
    "version": 3
   },
   "file_extension": ".py",
   "mimetype": "text/x-python",
   "name": "python",
   "nbconvert_exporter": "python",
   "pygments_lexer": "ipython3",
   "version": "3.11.4"
  }
 },
 "nbformat": 4,
 "nbformat_minor": 5
}
